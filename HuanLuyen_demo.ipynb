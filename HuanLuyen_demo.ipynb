{
  "nbformat": 4,
  "nbformat_minor": 0,
  "metadata": {
    "colab": {
      "provenance": []
    },
    "kernelspec": {
      "name": "python3",
      "display_name": "Python 3"
    },
    "language_info": {
      "name": "python"
    }
  },
  "cells": [
    {
      "cell_type": "code",
      "execution_count": null,
      "metadata": {
        "id": "w0N71-2wE_te"
      },
      "outputs": [],
      "source": [
        "import pandas as pd\n",
        "from sklearn.feature_extraction.text import TfidfVectorizer\n",
        "from sklearn.linear_model import LogisticRegression\n",
        "from sklearn.pipeline import Pipeline\n",
        "from sklearn.model_selection import train_test_split\n",
        "import pickle\n",
        "\n",
        "# Dữ liệu câu hỏi và câu trả lời\n",
        "data = [\n",
        "    (\"Giờ làm việc của công ty là gì?\", \"Công ty chúng tôi làm việc từ 8:00 sáng đến 5:00 chiều, từ thứ Hai đến thứ Sáu.\"),\n",
        "    (\"Địa chỉ của công ty là gì?\", \"Công ty chúng tôi ở số 123 Đường ABC, Quận XYZ, Thành phố HCM.\"),\n",
        "    (\"Làm thế nào để liên hệ với bộ phận hỗ trợ?\", \"Bạn có thể liên hệ với bộ phận hỗ trợ qua email support@company.com hoặc gọi số 0123456789.\"),\n",
        "    (\"Công ty có cung cấp dịch vụ giao hàng không?\", \"Có, chúng tôi cung cấp dịch vụ giao hàng toàn quốc.\"),\n",
        "    (\"Chính sách đổi trả hàng của công ty là gì?\", \"Bạn có thể đổi trả hàng trong vòng 30 ngày kể từ ngày mua hàng.\"),\n",
        "    (\"Giá sản phẩm X là bao nhiêu?\", \"Giá của sản phẩm X là 1,000,000 VND.\"),\n",
        "    (\"Công ty có chương trình khuyến mãi nào hiện tại không?\", \"Hiện tại, chúng tôi có chương trình giảm giá 20% cho tất cả các sản phẩm.\"),\n",
        "    (\"Làm sao để đăng ký nhận tin tức từ công ty?\", \"Bạn có thể đăng ký nhận tin tức từ công ty bằng cách nhập email vào form trên trang chủ của chúng tôi.\"),\n",
        "    (\"Công ty có chi nhánh ở đâu?\", \"Công ty chúng tôi có chi nhánh tại Hà Nội, Đà Nẵng và Thành phố Hồ Chí Minh.\"),\n",
        "    (\"Thời gian giao hàng là bao lâu?\", \"Thời gian giao hàng là từ 3-5 ngày làm việc.\"),\n",
        "    (\"Chính sách bảo mật của công ty là gì?\", \"Chính sách bảo mật của chúng tôi có thể được xem tại trang chính sách bảo mật trên website.\"),\n",
        "    (\"Làm sao để theo dõi đơn hàng của tôi?\", \"Bạn có thể theo dõi đơn hàng của mình bằng cách nhập mã đơn hàng trên trang theo dõi đơn hàng.\"),\n",
        "    (\"Sản phẩm này có bảo hành không?\", \"Có, sản phẩm này có bảo hành 12 tháng.\"),\n",
        "    (\"Làm sao để yêu cầu hỗ trợ kỹ thuật?\", \"Bạn có thể yêu cầu hỗ trợ kỹ thuật bằng cách gửi email đến support@company.com.\"),\n",
        "    (\"Công ty có hỗ trợ thanh toán trả góp không?\", \"Có, chúng tôi hỗ trợ thanh toán trả góp qua thẻ tín dụng.\"),\n",
        "    (\"Tôi có thể hủy đơn hàng của mình không?\", \"Bạn có thể hủy đơn hàng nếu đơn hàng chưa được xử lý.\"),\n",
        "    (\"Phí vận chuyển là bao nhiêu?\", \"Phí vận chuyển là 50,000 VND cho mỗi đơn hàng.\"),\n",
        "    (\"Sản phẩm này có sẵn không?\", \"Sản phẩm này hiện đang có sẵn.\"),\n",
        "    (\"Chính sách bảo hành của công ty là gì?\", \"Chính sách bảo hành của chúng tôi có thể được xem tại trang chính sách bảo hành trên website.\"),\n",
        "    (\"Tôi có thể mua sản phẩm này ở đâu?\", \"Bạn có thể mua sản phẩm này trên website của chúng tôi hoặc tại các cửa hàng chi nhánh.\"),\n",
        "    (\"Công ty có dịch vụ lắp đặt không?\", \"Có, chúng tôi có dịch vụ lắp đặt cho các sản phẩm.\"),\n",
        "    (\"Phương thức thanh toán của công ty là gì?\", \"Chúng tôi chấp nhận thanh toán bằng thẻ tín dụng, chuyển khoản ngân hàng và tiền mặt khi giao hàng.\"),\n",
        "    (\"Công ty có hỗ trợ đổi sản phẩm không?\", \"Có, chúng tôi hỗ trợ đổi sản phẩm trong vòng 30 ngày kể từ ngày mua hàng.\"),\n",
        "    (\"Làm sao để tạo tài khoản trên website?\", \"Bạn có thể tạo tài khoản bằng cách nhấp vào nút 'Đăng ký' trên trang chủ và điền thông tin cần thiết.\"),\n",
        "    (\"Công ty có nhận đơn hàng quốc tế không?\", \"Hiện tại chúng tôi chỉ nhận đơn hàng trong nước.\"),\n",
        "    (\"Làm sao để hủy đăng ký nhận tin tức?\", \"Bạn có thể hủy đăng ký nhận tin tức bằng cách nhấp vào liên kết 'Hủy đăng ký' ở cuối email chúng tôi gửi.\"),\n",
        "    (\"Chính sách bảo hành của sản phẩm X là gì?\", \"Sản phẩm X có bảo hành 12 tháng.\"),\n",
        "    (\"Công ty có dịch vụ tư vấn miễn phí không?\", \"Có, chúng tôi cung cấp dịch vụ tư vấn miễn phí qua điện thoại và email.\"),\n",
        "    (\"Làm sao để xem lịch sử mua hàng của tôi?\", \"Bạn có thể xem lịch sử mua hàng bằng cách đăng nhập vào tài khoản của mình và chọn 'Lịch sử mua hàng'.\"),\n",
        "    (\"Sản phẩm Y có còn hàng không?\", \"Sản phẩm Y hiện còn hàng.\"),\n",
        "    (\"Tôi có thể yêu cầu xuất hóa đơn không?\", \"Có, bạn có thể yêu cầu xuất hóa đơn khi thanh toán.\"),\n",
        "    (\"Chính sách vận chuyển của công ty là gì?\", \"Chính sách vận chuyển của chúng tôi có thể được xem tại trang chính sách vận chuyển trên website.\"),\n",
        "    (\"Làm sao để liên hệ với bộ phận chăm sóc khách hàng?\", \"Bạn có thể liên hệ với bộ phận chăm sóc khách hàng qua email support@company.com hoặc gọi số 0123456789.\"),\n",
        "    (\"Công ty có chương trình khách hàng thân thiết không?\", \"Có, chúng tôi có chương trình khách hàng thân thiết với nhiều ưu đãi.\"),\n",
        "    (\"Làm sao để sử dụng mã giảm giá?\", \"Bạn có thể nhập mã giảm giá khi thanh toán để nhận ưu đãi.\"),\n",
        "    (\"Sản phẩm này có phù hợp cho trẻ em không?\", \"Sản phẩm này phù hợp cho trẻ em từ 3 tuổi trở lên.\"),\n",
        "    (\"Làm sao để biết thêm thông tin về sản phẩm?\", \"Bạn có thể xem thêm thông tin về sản phẩm trên trang chi tiết sản phẩm.\"),\n",
        "    (\"Công ty có chính sách hỗ trợ doanh nghiệp không?\", \"Có, chúng tôi có chính sách hỗ trợ đặc biệt cho các doanh nghiệp.\"),\n",
        "    (\"Làm sao để thay đổi địa chỉ giao hàng?\", \"Bạn có thể thay đổi địa chỉ giao hàng bằng cách liên hệ với bộ phận chăm sóc khách hàng.\"),\n",
        "    (\"Sản phẩm này có phải hàng chính hãng không?\", \"Có, tất cả các sản phẩm của chúng tôi đều là hàng chính hãng.\"),\n",
        "    (\"Làm sao để biết tình trạng đơn hàng của tôi?\", \"Bạn có thể theo dõi tình trạng đơn hàng bằng cách nhập mã đơn hàng trên trang theo dõi đơn hàng.\"),\n",
        "    (\"Chính sách hoàn tiền của công ty là gì?\", \"Chính sách hoàn tiền của chúng tôi có thể được xem tại trang chính sách hoàn tiền trên website.\"),\n",
        "    (\"Công ty có hỗ trợ kỹ thuật không?\", \"Có, chúng tôi có đội ngũ kỹ thuật sẵn sàng hỗ trợ bạn.\"),\n",
        "    (\"Làm sao để nhận hóa đơn điện tử?\", \"Bạn có thể yêu cầu nhận hóa đơn điện tử khi thanh toán.\"),\n",
        "    (\"Công ty có bán lẻ sản phẩm không?\", \"Có, chúng tôi bán lẻ tất cả các sản phẩm.\"),\n",
        "    (\"Làm sao để yêu cầu bảo hành sản phẩm?\", \"Bạn có thể yêu cầu bảo hành sản phẩm bằng cách liên hệ với bộ phận chăm sóc khách hàng.\"),\n",
        "    (\"Công ty có hỗ trợ giao hàng nhanh không?\", \"Có, chúng tôi có dịch vụ giao hàng nhanh trong vòng 24 giờ.\"),\n",
        "    (\"Chính sách thanh toán của công ty là gì?\", \"Chính sách thanh toán của chúng tôi có thể được xem tại trang chính sách thanh toán trên website.\"),\n",
        "    (\"Làm sao để đăng nhập vào tài khoản của tôi?\", \"Bạn có thể đăng nhập vào tài khoản bằng cách nhấp vào nút 'Đăng nhập' trên trang chủ và nhập thông tin tài khoản.\"),\n",
        "]\n",
        "\n",
        "# Chia dữ liệu thành các câu hỏi và câu trả lời\n",
        "questions, answers = zip(*data)\n",
        "\n",
        "# Tạo pipeline với TfidfVectorizer và LogisticRegression\n",
        "pipeline = Pipeline([\n",
        "    ('vectorizer', TfidfVectorizer()),\n",
        "    ('classifier', LogisticRegression())\n",
        "])\n",
        "\n",
        "# Huấn luyện mô hình\n",
        "pipeline.fit(questions, answers)\n",
        "\n",
        "# Lưu mô hình đã huấn luyện\n",
        "with open('chatbot_model.pkl', 'wb') as file:\n",
        "    pickle.dump(pipeline, file)\n"
      ]
    },
    {
      "cell_type": "code",
      "source": [
        "with open('chatbot_model.pkl', 'wb') as file:\n",
        "    pickle.dump(pipeline, file)"
      ],
      "metadata": {
        "id": "8sK76XB4FhTj"
      },
      "execution_count": null,
      "outputs": []
    },
    {
      "cell_type": "code",
      "source": [
        "import pickle\n",
        "\n",
        "# Tải mô hình từ file\n",
        "with open('chatbot_model.pkl', 'rb') as file:\n",
        "    model = pickle.load(file)\n"
      ],
      "metadata": {
        "id": "Ezz79UluFGrz"
      },
      "execution_count": null,
      "outputs": []
    },
    {
      "cell_type": "code",
      "source": [
        "def generate_answer(question):\n",
        "    # Dự đoán câu trả lời\n",
        "    answer = model.predict([question])[0]\n",
        "    return answer\n",
        "\n",
        "# Ví dụ sử dụng\n",
        "question = \"Dịa chỉ của công ty\"\n",
        "print(generate_answer(question))\n"
      ],
      "metadata": {
        "colab": {
          "base_uri": "https://localhost:8080/"
        },
        "id": "NUYchxylFJ-J",
        "outputId": "4e61d0f8-7524-4d9e-aa97-638fabdbb20e"
      },
      "execution_count": null,
      "outputs": [
        {
          "output_type": "stream",
          "name": "stdout",
          "text": [
            "Công ty chúng tôi ở số 123 Đường ABC, Quận XYZ, Thành phố HCM.\n"
          ]
        }
      ]
    }
  ]
}